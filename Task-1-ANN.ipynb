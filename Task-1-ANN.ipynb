{
 "cells": [
  {
   "cell_type": "markdown",
   "metadata": {},
   "source": [
    "TASK 1"
   ]
  },
  {
   "cell_type": "markdown",
   "metadata": {},
   "source": [
    "Read in Mixcancer.csv"
   ]
  },
  {
   "cell_type": "code",
   "execution_count": 122,
   "metadata": {},
   "outputs": [],
   "source": [
    "# imports \n",
    "import os\n",
    "import pandas as pd\n",
    "import numpy as np\n",
    "import matplotlib.pyplot as plt"
   ]
  },
  {
   "cell_type": "code",
   "execution_count": 123,
   "metadata": {},
   "outputs": [],
   "source": [
    "def load_dataset():\n",
    "    # Read in the .csv file and split at 0.5 train test\n",
    "    data_frame = pd.read_csv('Mixcancer.csv')\n",
    "    data = data_frame.to_numpy()\n",
    "    \n",
    "    x = data[:,1:]\n",
    "    y = data[:,0]\n",
    "\n",
    "    # Split the data ratio of 0.5 train / test\n",
    "    sample_size = x.shape[0]\n",
    "    train_indices = np.random.choice(range(sample_size), int(sample_size / 2), replace=False)\n",
    "    selection_mask = np.zeros(sample_size, dtype=bool)\n",
    "    selection_mask[train_indices] = True\n",
    "\n",
    "    x_train = x[selection_mask]\n",
    "    y_train = y[selection_mask]\n",
    "\n",
    "    x_test = x[~selection_mask]\n",
    "    y_test = y[~selection_mask]\n",
    "\n",
    "    return x_train, y_train, x_test, y_test"
   ]
  },
  {
   "cell_type": "code",
   "execution_count": 124,
   "metadata": {},
   "outputs": [],
   "source": [
    "\n",
    "class ANN:\n",
    "    def __init__(self, batch_size=128, learning_rate=0.01, epochs=500):\n",
    "        # Hyper parameters\n",
    "        self.batch_size = batch_size\n",
    "        self.learning_rate = learning_rate\n",
    "        self.epochs = epochs\n",
    "\n",
    "        # For curve plotting\n",
    "        self.loss_history = []\n",
    "\n",
    "    def sigmoid(self, x):\n",
    "        return 1.0/(1.0+np.exp(-x))\n",
    "\n",
    "    def sigmoid_derivative(self, x):\n",
    "        return self.sigmoid(x)*(1.0-self.sigmoid(x))\n",
    "\n",
    "    def cross_entropy(self, x, y):\n",
    "        return (-y*(np.log(x)) - (1-y) * np.log(1-x))\n",
    "\n",
    "    def cross_entropy_derivative(self, x, y):\n",
    "        return -(y/x - (1-y)/(1-x))\n",
    "\n",
    "    def train(self, x_train, y_train):\n",
    "        # Initialize weights and bias\n",
    "        self.w1 = np.random.uniform(-1.0, 1.0, (x_train.shape[1], 5))\n",
    "        self.b1 = np.zeros((1, 5))\n",
    "        self.w2 = np.random.uniform(-1.0, 1.0, (5, 1))\n",
    "        self.b2 = 0\n",
    "\n",
    "        for epoch in range(1, self.epochs + 1):\n",
    "            if epoch % 10 == 0:\n",
    "                print(\"Running epoch {}\".format(epoch))\n",
    "            # Select a 128 batch of samples\n",
    "            batch_indices = np.random.randint(0, x_train.shape[0], self.batch_size)\n",
    "            x_train_batch = np.array(x_train[batch_indices])\n",
    "            y_train_batch = np.array(y_train[batch_indices])\n",
    "\n",
    "            epoch_loss = 0\n",
    "            for i in range(self.batch_size):\n",
    "                x = x_train_batch[i]\n",
    "                y = y_train_batch[i]\n",
    "                \n",
    "                # Feed forward\n",
    "                inL1 = x@self.w1 + self.b1\n",
    "                outL1 = self.sigmoid(inL1)\n",
    "                inL2 = outL1@self.w2 + self.b2\n",
    "                outL2 = self.sigmoid(inL2)\n",
    "\n",
    "                #Error calulation\n",
    "                e = 0.5*np.power(y-outL2, 2)\n",
    "\n",
    "                #Loss\n",
    "                loss = self.cross_entropy(outL2, y)\n",
    "                epoch_loss += loss.mean()\n",
    "\n",
    "                # Backpropagation layer 2\n",
    "                dEdOutL2 = outL2 - y\n",
    "                dOutL2dInL2 = self.sigmoid_derivative(inL2)\n",
    "                dInL2dW2 = outL1\n",
    "                dEdW2 = outL1.T*dEdOutL2*dOutL2dInL2\n",
    "                dEdB2 = dEdOutL2*dOutL2dInL2\n",
    "\n",
    "                #Backpropagation layer 1\n",
    "                dInL2dOutL1 = self.w2\n",
    "                dOutL1dInL1 = self.sigmoid_derivative(inL1)\n",
    "                dInL1dW1 = x\n",
    "\n",
    "                dEdW1 = dInL1dW1.reshape([len(dInL1dW1),1])@(dEdOutL2*dOutL2dInL2*dInL2dOutL1.T)*dOutL1dInL1\n",
    "                dEdB1 = (dEdOutL2*dOutL2dInL2*dInL2dOutL1.T)*dOutL1dInL1\n",
    "\n",
    "                # Updating parameters\n",
    "                self.w1 -= self.learning_rate * dEdW1\n",
    "                self.b1 -= self.learning_rate * dEdB1\n",
    "                self.w2 -= self.learning_rate * dEdW2\n",
    "                self.b2 -= self.learning_rate * dEdB2\n",
    "\n",
    "            self.loss_history.append(epoch_loss)\n",
    "\n",
    "        graph = np.array(self.loss_history)\n",
    "        print(graph.shape)\n",
    "        plt.plot(range(graph.shape[0]), graph)\n",
    "        plt.show()\n",
    "\n",
    "    def evaluate(self, x_test, y_test):\n",
    "        pass\n"
   ]
  },
  {
   "cell_type": "code",
   "execution_count": 125,
   "metadata": {},
   "outputs": [
    {
     "name": "stderr",
     "output_type": "stream",
     "text": [
      "C:\\Users\\Robert\\AppData\\Local\\Temp\\ipykernel_12440\\2911427427.py:12: RuntimeWarning: overflow encountered in exp\n",
      "  return 1.0/(1.0+np.exp(-x))\n"
     ]
    },
    {
     "name": "stdout",
     "output_type": "stream",
     "text": [
      "Running epoch 10\n",
      "Running epoch 20\n",
      "Running epoch 30\n",
      "Running epoch 40\n",
      "Running epoch 50\n",
      "Running epoch 60\n",
      "Running epoch 70\n",
      "Running epoch 80\n",
      "Running epoch 90\n",
      "Running epoch 100\n",
      "Running epoch 110\n",
      "Running epoch 120\n",
      "Running epoch 130\n",
      "Running epoch 140\n",
      "Running epoch 150\n",
      "Running epoch 160\n",
      "Running epoch 170\n",
      "Running epoch 180\n",
      "Running epoch 190\n",
      "Running epoch 200\n",
      "Running epoch 210\n",
      "Running epoch 220\n",
      "Running epoch 230\n",
      "Running epoch 240\n",
      "Running epoch 250\n",
      "Running epoch 260\n",
      "Running epoch 270\n",
      "Running epoch 280\n",
      "Running epoch 290\n",
      "Running epoch 300\n",
      "Running epoch 310\n",
      "Running epoch 320\n",
      "Running epoch 330\n",
      "Running epoch 340\n",
      "Running epoch 350\n",
      "Running epoch 360\n",
      "Running epoch 370\n",
      "Running epoch 380\n",
      "Running epoch 390\n",
      "Running epoch 400\n",
      "Running epoch 410\n",
      "Running epoch 420\n",
      "Running epoch 430\n",
      "Running epoch 440\n",
      "Running epoch 450\n",
      "Running epoch 460\n",
      "Running epoch 470\n",
      "Running epoch 480\n",
      "Running epoch 490\n",
      "Running epoch 500\n",
      "(500,)\n"
     ]
    },
    {
     "data": {
      "image/png": "[encoded data removed]",
      "text/plain": [
       "<Figure size 432x288 with 1 Axes>"
      ]
     },
     "metadata": {
      "needs_background": "light"
     },
     "output_type": "display_data"
    }
   ],
   "source": [
    "def main():\n",
    "    x_train, y_train, x_test, y_test = load_dataset()\n",
    "\n",
    "    ann = ANN(batch_size=128, learning_rate=0.01, epochs=500)\n",
    "\n",
    "    ann.train(x_train, y_train)\n",
    "\n",
    "    \n",
    "    \n",
    "\n",
    "main()"
   ]
  }
 ],
 "metadata": {
  "interpreter": {
   "hash": "ab6dd6c404c5d4f755d7817264794fdc58e26a6f703f0f03343b270936447a7d"
  },
  "kernelspec": {
   "display_name": "Python 3.9.9 ('venv': venv)",
   "language": "python",
   "name": "python3"
  },
  "language_info": {
   "codemirror_mode": {
    "name": "ipython",
    "version": 3
   },
   "file_extension": ".py",
   "mimetype": "text/x-python",
   "name": "python",
   "nbconvert_exporter": "python",
   "pygments_lexer": "ipython3",
   "version": "3.9.9"
  },
  "orig_nbformat": 4
 },
 "nbformat": 4,
 "nbformat_minor": 2
}
