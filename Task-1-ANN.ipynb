{
 "cells": [
  {
   "cell_type": "markdown",
   "metadata": {},
   "source": [
    "TASK 1"
   ]
  },
  {
   "cell_type": "markdown",
   "metadata": {},
   "source": [
    "Read in Mixcancer.csv"
   ]
  },
  {
   "cell_type": "code",
   "execution_count": 329,
   "metadata": {},
   "outputs": [],
   "source": [
    "# imports \n",
    "import pandas as pd\n",
    "import numpy as np\n",
    "import matplotlib.pyplot as plt\n",
    "from sklearn.model_selection import train_test_split\n",
    "\n",
    "# seed numpy & disable overflow warnings\n",
    "np.seterr(all=\"ignore\")\n",
    "np.random.seed(16)"
   ]
  },
  {
   "cell_type": "code",
   "execution_count": 330,
   "metadata": {},
   "outputs": [],
   "source": [
    "def load_dataset(split_ratio=0.5):\n",
    "    # Read in the .csv file and split train test\n",
    "    data_frame = pd.read_csv('Mixcancer.csv')\n",
    "    data = data_frame.to_numpy()\n",
    "\n",
    "    x = data[:, 1:]\n",
    "    y = data[:, 0]\n",
    "\n",
    "    y = y.reshape(len(y), 1)\n",
    "\n",
    "    x_train, x_test, y_train, y_test = train_test_split(x, y, test_size=split_ratio, random_state=0, shuffle=True)\n",
    "\n",
    "    return x_train, y_train, x_test, y_test\n"
   ]
  },
  {
   "cell_type": "code",
   "execution_count": 331,
   "metadata": {},
   "outputs": [],
   "source": [
    "\n",
    "class ANN:\n",
    "    def __init__(self, batch_size=128, learning_rate=0.01, epochs=500):\n",
    "        self.batch_size = batch_size\n",
    "        self.learning_rate = learning_rate\n",
    "        self.epochs = epochs\n",
    "        \n",
    "    def sigmoid(self, x):\n",
    "        return 1.0/(1.0+np.exp(-x))\n",
    "\n",
    "    def sigmoid_derivative(self, x):\n",
    "        return self.sigmoid(x)*(1.0-self.sigmoid(x))\n",
    "\n",
    "    def reLu(self, v):\n",
    "        return np.maximum(v,0)\n",
    "\n",
    "    def reLu_der(self, v):\n",
    "        v[v<=0] = 0\n",
    "        v[v>0] = 1\n",
    "        return v\n",
    "\n",
    "    def cross_entropy(self, x, y):\n",
    "        return (-y*(np.log(x)) - (1-y) * np.log(1-x))\n",
    "\n",
    "    def cross_entropy_derivative(self, x, y):\n",
    "        return -(y/x - (1-y)/(1-x))\n",
    "\n",
    "    def train(self, x_train, y_train):\n",
    "        # Initialize weights and bias\n",
    "        self.w1 = np.random.uniform(-1,1,[len(x_train[0]),5]) #weights of the first layer\n",
    "        self.b1 = np.zeros([1,5]) #bias of the first layer\n",
    "        self.w2 = np.random.uniform(-1,1,[5,1]) #weights of the first layer\n",
    "        self.b2 = 0 #bias of the first layer\n",
    "\n",
    "        epoch_error = []\n",
    "        epoc_accuracy = []\n",
    "\n",
    "        for _ in range(self.epochs):\n",
    "            # Mini batches data shuffled on each epoch\n",
    "            random_indices = np.arange(x_train.shape[0])\n",
    "            np.random.shuffle(random_indices)\n",
    "\n",
    "            # For each mini batch\n",
    "            mini_batch_train_errors = []\n",
    "            mini_batch_train_accuracies = []\n",
    "            for i in range(0, random_indices.shape[0], self.batch_size):\n",
    "                x_batch = x_train[i:i + self.batch_size]\n",
    "                y_batch = y_train[i:i + self.batch_size]\n",
    "\n",
    "                in1 = x_batch@self.w1 + self.b1\n",
    "                o1 = self.sigmoid(in1)\n",
    "                in2 = o1@self.w2 + self.b2\n",
    "                o2 = self.sigmoid(in2)\n",
    "\n",
    "                # Error\n",
    "                error = self.cross_entropy(o2 ,y_batch).mean()\n",
    "\n",
    "                # Accuracy\n",
    "                pred_train = np.where(o2 > 0.5, 1,0)\n",
    "                accuracy = np.sum(pred_train == y_batch) / float(y_batch.shape[0])\n",
    "                \n",
    "                mini_batch_train_errors.append(error)\n",
    "                mini_batch_train_accuracies.append(accuracy)\n",
    "\n",
    "                # Backpropagation Layer 2\n",
    "                dE_dO2 = self.cross_entropy_derivative(o2, y_batch)\n",
    "                dO2_dIn2 = self.sigmoid_derivative(in2)\n",
    "                dIn2_dW2 = o1\n",
    "                dIn2_B2 = 1\n",
    "                dE_dW2 = (1/x_batch.shape[0])*dIn2_dW2.T@(dE_dO2*dO2_dIn2)\n",
    "                dE_dB2 = (1/x_batch.shape[0])*np.ones([1,len(x_batch)])@(dE_dO2*dO2_dIn2)\n",
    "                \n",
    "                # Backpropagation Layer 1\n",
    "                dIn2_dO1 = self.w2\n",
    "                dO1_dIn1 = self.sigmoid_derivative(in1)\n",
    "                dIn1_dW1 = x_batch\n",
    "                dE_dW1 = (1/x_batch.shape[0])*dIn1_dW1.T@((dE_dO2*dO2_dIn2@dIn2_dO1.T)*dO1_dIn1)\n",
    "                dE_dB1 = (1/x_batch.shape[0])*np.ones([len(x_batch)])@((dE_dO2*dO2_dIn2@dIn2_dO1.T)*dO1_dIn1)\n",
    "                \n",
    "                # Updating parameters\n",
    "                self.b2-= self.learning_rate * dE_dB2\n",
    "                self.w2-= self.learning_rate * dE_dW2\n",
    "                self.b1-= self.learning_rate * dE_dB1\n",
    "                self.w1-= self.learning_rate * dE_dW1\n",
    "            \n",
    "            epoch_error.append(np.mean(mini_batch_train_errors))\n",
    "            epoc_accuracy.append(np.mean(mini_batch_train_accuracies))\n",
    "\n",
    "        z=np.arange(self.epochs)\n",
    "        f1=plt.figure(1)\n",
    "        plt.plot(z,epoch_error,label=\"train\")\n",
    "        plt.xlabel('Epochs')\n",
    "        plt.ylabel('Loss')\n",
    "        plt.legend(loc='best')\n",
    "        plt.title('Cross entropy loss')\n",
    "\n",
    "        f2=plt.figure(2)\n",
    "        plt.plot(z,epoc_accuracy,label=\"train\")\n",
    "        plt.xlabel('Epochs')\n",
    "        plt.ylabel('Accuracy')\n",
    "        plt.legend(loc='best')\n",
    "        plt.title('Training accuracy')\n",
    "\n",
    "\n",
    "    def evaluate(self, x_test, y_test):\n",
    "        num = x_test.shape[0]\n",
    "        num_correct = 0\n",
    "\n",
    "        in_l1 = x_test@self.w1 + self.b1\n",
    "        out_l1 = self.sigmoid(in_l1)\n",
    "        in_l2 = out_l1@self.w2 + self.b2\n",
    "        out_l2 = self.sigmoid(in_l2)\n",
    "\n",
    "        pred = np.where(out_l2 > 0.5, 1,0)\n",
    "\n",
    "        num_correct = np.sum(y_test == pred)\n",
    "        print(num_correct)\n",
    "        print(\"Accuracy: {}\".format(num_correct / float(num)))\n",
    "\n"
   ]
  },
  {
   "cell_type": "code",
   "execution_count": 332,
   "metadata": {},
   "outputs": [
    {
     "name": "stdout",
     "output_type": "stream",
     "text": [
      "174\n",
      "Accuracy: 0.696\n"
     ]
    },
    {
     "data": {
      "image/png": "[encoded data removed]",
      "text/plain": [
       "<Figure size 432x288 with 1 Axes>"
      ]
     },
     "metadata": {
      "needs_background": "light"
     },
     "output_type": "display_data"
    },
    {
     "data": {
      "image/png": "[encoded data removed]",
      "text/plain": [
       "<Figure size 432x288 with 1 Axes>"
      ]
     },
     "metadata": {
      "needs_background": "light"
     },
     "output_type": "display_data"
    }
   ],
   "source": [
    "def main():\n",
    "    x_train, y_train, x_test, y_test = load_dataset(split_ratio=0.5)\n",
    "\n",
    "    ann = ANN(batch_size=128, learning_rate=0.01, epochs=500)\n",
    "\n",
    "    ann.train(x_train, y_train)\n",
    "\n",
    "    ann.evaluate(x_test, y_test)\n",
    "    \n",
    "main()"
   ]
  }
 ],
 "metadata": {
  "interpreter": {
   "hash": "ab6dd6c404c5d4f755d7817264794fdc58e26a6f703f0f03343b270936447a7d"
  },
  "kernelspec": {
   "display_name": "Python 3.9.9 ('venv': venv)",
   "language": "python",
   "name": "python3"
  },
  "language_info": {
   "codemirror_mode": {
    "name": "ipython",
    "version": 3
   },
   "file_extension": ".py",
   "mimetype": "text/x-python",
   "name": "python",
   "nbconvert_exporter": "python",
   "pygments_lexer": "ipython3",
   "version": "3.9.9"
  },
  "orig_nbformat": 4
 },
 "nbformat": 4,
 "nbformat_minor": 2
}
